{
 "cells": [
  {
   "cell_type": "markdown",
   "metadata": {},
   "source": [
    "<div style=\"text-align: right\"> Ali Emre Öz </div>\n",
    "<div style=\"text-align: right\"> 213950785 </div>"
   ]
  },
  {
   "cell_type": "markdown",
   "metadata": {},
   "source": [
    "<h3 align=\"center\">EECS 461 - MACHINE LEARNING PROJECT FINAL REPORT</h3> "
   ]
  },
  {
   "cell_type": "markdown",
   "metadata": {},
   "source": [
    "In my project, I will try to predict the genre of the movie using data about movie; like budget, revenue, release year, imdb rating, used word in title etc.\n",
    "\n",
    "For this purpose, I found a two different dataset from two different source. One from IMDB and other from TMDB. At first I try to explore this dataset and clean a little bit. Then I try to visualize some information about this cleaned dataset. After that I will try to set my data ready for machine learning algorithm by doing some scaling,one-hot-encoding and bag of word analysis. And then I split my data for training and testing. As my main goal is try to predict movie genre from some genres. This is a multiclass classification task. I will use Random Forest Classifier, Logistic Regression and Ada Boost Classifier with one vs all approach. After that, I will try to implement dimensionality reduction methods by applying PCA. For performance measurement, I will use Hamming Loss."
   ]
  },
  {
   "cell_type": "markdown",
   "metadata": {},
   "source": [
    "I split my notebook as 4 different purpose.\n",
    "* Data Exploration and Cleanup\n",
    "* Data Visualization\n",
    "* Data Preprocessing\n",
    "* Classification Algorithms and Performance Measurements"
   ]
  },
  {
   "cell_type": "markdown",
   "metadata": {},
   "source": [
    "#### Data Exploration and Cleanup"
   ]
  },
  {
   "cell_type": "code",
   "execution_count": 1,
   "metadata": {},
   "outputs": [
    {
     "name": "stdout",
     "output_type": "stream",
     "text": [
      "Populating the interactive namespace from numpy and matplotlib\n"
     ]
    }
   ],
   "source": [
    "%matplotlib inline\n",
    "%pylab inline\n",
    "import matplotlib\n",
    "import matplotlib.pyplot as plt\n",
    "import pandas as pd\n",
    "import numpy as np"
   ]
  },
  {
   "cell_type": "code",
   "execution_count": 2,
   "metadata": {},
   "outputs": [
    {
     "name": "stdout",
     "output_type": "stream",
     "text": [
      "(25745, 45)\n",
      "(324, 45)\n",
      "(40557, 45)\n"
     ]
    }
   ],
   "source": [
    "imdb_data_1 = pd.read_csv(\"imdb1.csv\")\n",
    "imdb_data_2 = pd.read_csv(\"imdb2.csv\")\n",
    "cols = imdb_data_1.columns\n",
    "imdb_data_3 = pd.read_table(\"imdb3.txt\", sep='\\t', header=None, names = cols[1:])\n",
    "del imdb_data_1['Unnamed: 0']\n",
    "del imdb_data_2['Unnamed: 0']\n",
    "print imdb_data_1.shape\n",
    "print imdb_data_2.shape\n",
    "print imdb_data_3.shape"
   ]
  },
  {
   "cell_type": "code",
   "execution_count": 3,
   "metadata": {},
   "outputs": [
    {
     "name": "stdout",
     "output_type": "stream",
     "text": [
      "(66626, 45)\n"
     ]
    }
   ],
   "source": [
    "frames = [imdb_data_1, imdb_data_2, imdb_data_3]\n",
    "imdb_data = pd.concat(frames)\n",
    "print imdb_data.shape"
   ]
  },
  {
   "cell_type": "code",
   "execution_count": 4,
   "metadata": {},
   "outputs": [
    {
     "data": {
      "text/plain": [
       "Index([u'id', u'title', u'canonical title', u'imdbIndex', u'kind', u'year',\n",
       "       u'rating', u'mpaa', u'votes', u'runtimes', u'color info', u'genres',\n",
       "       u'languages', u'plot', u'countries', u'director', u'writer', u'cast',\n",
       "       u'certificates', u'Action', u'Adventure', u'Adult', u'Animation',\n",
       "       u'Comedy', u'Crime', u'Documentary', u'Drama', u'Family', u'Fantasy',\n",
       "       u'Film-Noir', u'Horror', u'Musical', u'Mystery', u'Romance', u'Sci-Fi',\n",
       "       u'Short', u'Thriller', u'War', u'Western', u'Talk-Show', u'News',\n",
       "       u'Game-Show', u'Reality-TV', u'History', u'Sport'],\n",
       "      dtype='object')"
      ]
     },
     "execution_count": 4,
     "metadata": {},
     "output_type": "execute_result"
    }
   ],
   "source": [
    "imdb_data.columns"
   ]
  },
  {
   "cell_type": "code",
   "execution_count": 5,
   "metadata": {},
   "outputs": [
    {
     "name": "stdout",
     "output_type": "stream",
     "text": [
      "(79716, 16)\n"
     ]
    }
   ],
   "source": [
    "tmdb_data = pd.read_csv(\"tmdb.csv\")\n",
    "print tmdb_data.shape"
   ]
  },
  {
   "cell_type": "code",
   "execution_count": 6,
   "metadata": {},
   "outputs": [
    {
     "data": {
      "text/plain": [
       "Index([u'movie_id', u'revenue', u'overview', u'genres', u'title',\n",
       "       u'vote_count', u'imdb_id', u'popularity', u'budget', u'vote_average',\n",
       "       u'runtime', u'red_pixel', u'green_pixel', u'blue_pixel',\n",
       "       u'release_date_month', u'release_date_year'],\n",
       "      dtype='object')"
      ]
     },
     "execution_count": 6,
     "metadata": {},
     "output_type": "execute_result"
    }
   ],
   "source": [
    "tmdb_data.columns"
   ]
  },
  {
   "cell_type": "markdown",
   "metadata": {},
   "source": [
    "##### Delete the unnecessary features from both dataset"
   ]
  },
  {
   "cell_type": "code",
   "execution_count": 7,
   "metadata": {},
   "outputs": [],
   "source": [
    "for column_name in [\"votes\",\"imdbIndex\",\"canonical title\",\"mpaa\",\"kind\",\"runtimes\",\"plot\",\"certificates\",\"color info\",\"countries\",\"languages\"]:\n",
    "    del imdb_data[column_name]"
   ]
  },
  {
   "cell_type": "code",
   "execution_count": 8,
   "metadata": {},
   "outputs": [],
   "source": [
    "for column_name in [\"release_date_year\",\"release_date_month\",\"blue_pixel\",\"green_pixel\",\"red_pixel\",\"title\",\"genres\",\"vote_count\"]:\n",
    "    del tmdb_data[column_name]"
   ]
  },
  {
   "cell_type": "code",
   "execution_count": 9,
   "metadata": {},
   "outputs": [],
   "source": [
    "result = tmdb_data.merge(imdb_data, left_on='imdb_id', right_on='id', how='inner')"
   ]
  },
  {
   "cell_type": "code",
   "execution_count": 10,
   "metadata": {},
   "outputs": [
    {
     "name": "stdout",
     "output_type": "stream",
     "text": [
      "(63911, 42)\n",
      "Index([u'movie_id', u'revenue', u'overview', u'imdb_id', u'popularity',\n",
      "       u'budget', u'vote_average', u'runtime', u'id', u'title', u'year',\n",
      "       u'rating', u'genres', u'director', u'writer', u'cast', u'Action',\n",
      "       u'Adventure', u'Adult', u'Animation', u'Comedy', u'Crime',\n",
      "       u'Documentary', u'Drama', u'Family', u'Fantasy', u'Film-Noir',\n",
      "       u'Horror', u'Musical', u'Mystery', u'Romance', u'Sci-Fi', u'Short',\n",
      "       u'Thriller', u'War', u'Western', u'Talk-Show', u'News', u'Game-Show',\n",
      "       u'Reality-TV', u'History', u'Sport'],\n",
      "      dtype='object')\n"
     ]
    },
    {
     "data": {
      "text/html": [
       "<div>\n",
       "<style scoped>\n",
       "    .dataframe tbody tr th:only-of-type {\n",
       "        vertical-align: middle;\n",
       "    }\n",
       "\n",
       "    .dataframe tbody tr th {\n",
       "        vertical-align: top;\n",
       "    }\n",
       "\n",
       "    .dataframe thead th {\n",
       "        text-align: right;\n",
       "    }\n",
       "</style>\n",
       "<table border=\"1\" class=\"dataframe\">\n",
       "  <thead>\n",
       "    <tr style=\"text-align: right;\">\n",
       "      <th></th>\n",
       "      <th>movie_id</th>\n",
       "      <th>revenue</th>\n",
       "      <th>overview</th>\n",
       "      <th>imdb_id</th>\n",
       "      <th>popularity</th>\n",
       "      <th>budget</th>\n",
       "      <th>vote_average</th>\n",
       "      <th>runtime</th>\n",
       "      <th>id</th>\n",
       "      <th>title</th>\n",
       "      <th>...</th>\n",
       "      <th>Short</th>\n",
       "      <th>Thriller</th>\n",
       "      <th>War</th>\n",
       "      <th>Western</th>\n",
       "      <th>Talk-Show</th>\n",
       "      <th>News</th>\n",
       "      <th>Game-Show</th>\n",
       "      <th>Reality-TV</th>\n",
       "      <th>History</th>\n",
       "      <th>Sport</th>\n",
       "    </tr>\n",
       "  </thead>\n",
       "  <tbody>\n",
       "    <tr>\n",
       "      <th>0</th>\n",
       "      <td>106505</td>\n",
       "      <td>0</td>\n",
       "      <td>Relentlessly gruesome, South Korean filmmaker ...</td>\n",
       "      <td>tt2349554</td>\n",
       "      <td>0.000814</td>\n",
       "      <td>0</td>\n",
       "      <td>5.8</td>\n",
       "      <td>75.0</td>\n",
       "      <td>tt2349554</td>\n",
       "      <td>Hier bei mir</td>\n",
       "      <td>...</td>\n",
       "      <td>1.0</td>\n",
       "      <td>0.0</td>\n",
       "      <td>0.0</td>\n",
       "      <td>0.0</td>\n",
       "      <td>0.0</td>\n",
       "      <td>0.0</td>\n",
       "      <td>0.0</td>\n",
       "      <td>0.0</td>\n",
       "      <td>0.0</td>\n",
       "      <td>0.0</td>\n",
       "    </tr>\n",
       "    <tr>\n",
       "      <th>1</th>\n",
       "      <td>106507</td>\n",
       "      <td>0</td>\n",
       "      <td>takes pride in calling himself a \"Sesky Video ...</td>\n",
       "      <td>tt2347289</td>\n",
       "      <td>0.003110</td>\n",
       "      <td>0</td>\n",
       "      <td>0.0</td>\n",
       "      <td>145.0</td>\n",
       "      <td>tt2347289</td>\n",
       "      <td>The Jubilee Girl</td>\n",
       "      <td>...</td>\n",
       "      <td>0.0</td>\n",
       "      <td>0.0</td>\n",
       "      <td>0.0</td>\n",
       "      <td>0.0</td>\n",
       "      <td>0.0</td>\n",
       "      <td>0.0</td>\n",
       "      <td>0.0</td>\n",
       "      <td>0.0</td>\n",
       "      <td>0.0</td>\n",
       "      <td>0.0</td>\n",
       "    </tr>\n",
       "    <tr>\n",
       "      <th>2</th>\n",
       "      <td>106509</td>\n",
       "      <td>0</td>\n",
       "      <td>A young millionaire (Richard Carlson) joins th...</td>\n",
       "      <td>tt0034853</td>\n",
       "      <td>0.000155</td>\n",
       "      <td>0</td>\n",
       "      <td>6.0</td>\n",
       "      <td>65.0</td>\n",
       "      <td>tt0034853</td>\n",
       "      <td>Highways by Night</td>\n",
       "      <td>...</td>\n",
       "      <td>0.0</td>\n",
       "      <td>0.0</td>\n",
       "      <td>0.0</td>\n",
       "      <td>0.0</td>\n",
       "      <td>0.0</td>\n",
       "      <td>0.0</td>\n",
       "      <td>0.0</td>\n",
       "      <td>0.0</td>\n",
       "      <td>0.0</td>\n",
       "      <td>0.0</td>\n",
       "    </tr>\n",
       "    <tr>\n",
       "      <th>3</th>\n",
       "      <td>106511</td>\n",
       "      <td>0</td>\n",
       "      <td>Rd Cokro, a wealthy businessman, obtains his w...</td>\n",
       "      <td>tt0285808</td>\n",
       "      <td>0.000083</td>\n",
       "      <td>0</td>\n",
       "      <td>0.0</td>\n",
       "      <td>82.0</td>\n",
       "      <td>tt0285808</td>\n",
       "      <td>Nyi blorong</td>\n",
       "      <td>...</td>\n",
       "      <td>0.0</td>\n",
       "      <td>0.0</td>\n",
       "      <td>0.0</td>\n",
       "      <td>0.0</td>\n",
       "      <td>0.0</td>\n",
       "      <td>0.0</td>\n",
       "      <td>0.0</td>\n",
       "      <td>0.0</td>\n",
       "      <td>0.0</td>\n",
       "      <td>0.0</td>\n",
       "    </tr>\n",
       "    <tr>\n",
       "      <th>4</th>\n",
       "      <td>106513</td>\n",
       "      <td>0</td>\n",
       "      <td>The city's District Attorney is murdered, and ...</td>\n",
       "      <td>tt0036255</td>\n",
       "      <td>0.010632</td>\n",
       "      <td>0</td>\n",
       "      <td>6.5</td>\n",
       "      <td>74.0</td>\n",
       "      <td>tt0036255</td>\n",
       "      <td>The Pay Off</td>\n",
       "      <td>...</td>\n",
       "      <td>0.0</td>\n",
       "      <td>0.0</td>\n",
       "      <td>0.0</td>\n",
       "      <td>0.0</td>\n",
       "      <td>0.0</td>\n",
       "      <td>0.0</td>\n",
       "      <td>0.0</td>\n",
       "      <td>0.0</td>\n",
       "      <td>0.0</td>\n",
       "      <td>0.0</td>\n",
       "    </tr>\n",
       "  </tbody>\n",
       "</table>\n",
       "<p>5 rows × 42 columns</p>\n",
       "</div>"
      ],
      "text/plain": [
       "   movie_id  revenue                                           overview  \\\n",
       "0    106505        0  Relentlessly gruesome, South Korean filmmaker ...   \n",
       "1    106507        0  takes pride in calling himself a \"Sesky Video ...   \n",
       "2    106509        0  A young millionaire (Richard Carlson) joins th...   \n",
       "3    106511        0  Rd Cokro, a wealthy businessman, obtains his w...   \n",
       "4    106513        0  The city's District Attorney is murdered, and ...   \n",
       "\n",
       "     imdb_id  popularity  budget  vote_average  runtime         id  \\\n",
       "0  tt2349554    0.000814       0           5.8     75.0  tt2349554   \n",
       "1  tt2347289    0.003110       0           0.0    145.0  tt2347289   \n",
       "2  tt0034853    0.000155       0           6.0     65.0  tt0034853   \n",
       "3  tt0285808    0.000083       0           0.0     82.0  tt0285808   \n",
       "4  tt0036255    0.010632       0           6.5     74.0  tt0036255   \n",
       "\n",
       "               title  ...    Short  Thriller  War Western Talk-Show News  \\\n",
       "0       Hier bei mir  ...      1.0       0.0  0.0     0.0       0.0  0.0   \n",
       "1   The Jubilee Girl  ...      0.0       0.0  0.0     0.0       0.0  0.0   \n",
       "2  Highways by Night  ...      0.0       0.0  0.0     0.0       0.0  0.0   \n",
       "3        Nyi blorong  ...      0.0       0.0  0.0     0.0       0.0  0.0   \n",
       "4        The Pay Off  ...      0.0       0.0  0.0     0.0       0.0  0.0   \n",
       "\n",
       "   Game-Show  Reality-TV  History  Sport  \n",
       "0        0.0         0.0      0.0    0.0  \n",
       "1        0.0         0.0      0.0    0.0  \n",
       "2        0.0         0.0      0.0    0.0  \n",
       "3        0.0         0.0      0.0    0.0  \n",
       "4        0.0         0.0      0.0    0.0  \n",
       "\n",
       "[5 rows x 42 columns]"
      ]
     },
     "execution_count": 10,
     "metadata": {},
     "output_type": "execute_result"
    }
   ],
   "source": [
    "print result.shape\n",
    "print result.columns\n",
    "result.head()"
   ]
  },
  {
   "cell_type": "markdown",
   "metadata": {},
   "source": [
    "##### Replace Nan"
   ]
  },
  {
   "cell_type": "code",
   "execution_count": 11,
   "metadata": {},
   "outputs": [],
   "source": [
    "result = result.replace(to_replace=\"null\", value=np.nan, inplace=False)"
   ]
  },
  {
   "cell_type": "code",
   "execution_count": 12,
   "metadata": {},
   "outputs": [
    {
     "name": "stdout",
     "output_type": "stream",
     "text": [
      "(63911, 42)\n"
     ]
    },
    {
     "data": {
      "text/html": [
       "<div>\n",
       "<style scoped>\n",
       "    .dataframe tbody tr th:only-of-type {\n",
       "        vertical-align: middle;\n",
       "    }\n",
       "\n",
       "    .dataframe tbody tr th {\n",
       "        vertical-align: top;\n",
       "    }\n",
       "\n",
       "    .dataframe thead th {\n",
       "        text-align: right;\n",
       "    }\n",
       "</style>\n",
       "<table border=\"1\" class=\"dataframe\">\n",
       "  <thead>\n",
       "    <tr style=\"text-align: right;\">\n",
       "      <th></th>\n",
       "      <th>movie_id</th>\n",
       "      <th>revenue</th>\n",
       "      <th>overview</th>\n",
       "      <th>imdb_id</th>\n",
       "      <th>popularity</th>\n",
       "      <th>budget</th>\n",
       "      <th>vote_average</th>\n",
       "      <th>runtime</th>\n",
       "      <th>id</th>\n",
       "      <th>title</th>\n",
       "      <th>...</th>\n",
       "      <th>Short</th>\n",
       "      <th>Thriller</th>\n",
       "      <th>War</th>\n",
       "      <th>Western</th>\n",
       "      <th>Talk-Show</th>\n",
       "      <th>News</th>\n",
       "      <th>Game-Show</th>\n",
       "      <th>Reality-TV</th>\n",
       "      <th>History</th>\n",
       "      <th>Sport</th>\n",
       "    </tr>\n",
       "  </thead>\n",
       "  <tbody>\n",
       "    <tr>\n",
       "      <th>0</th>\n",
       "      <td>106505</td>\n",
       "      <td>0</td>\n",
       "      <td>Relentlessly gruesome, South Korean filmmaker ...</td>\n",
       "      <td>tt2349554</td>\n",
       "      <td>0.000814</td>\n",
       "      <td>0</td>\n",
       "      <td>5.8</td>\n",
       "      <td>75.0</td>\n",
       "      <td>tt2349554</td>\n",
       "      <td>Hier bei mir</td>\n",
       "      <td>...</td>\n",
       "      <td>1.0</td>\n",
       "      <td>0.0</td>\n",
       "      <td>0.0</td>\n",
       "      <td>0.0</td>\n",
       "      <td>0.0</td>\n",
       "      <td>0.0</td>\n",
       "      <td>0.0</td>\n",
       "      <td>0.0</td>\n",
       "      <td>0.0</td>\n",
       "      <td>0.0</td>\n",
       "    </tr>\n",
       "    <tr>\n",
       "      <th>1</th>\n",
       "      <td>106507</td>\n",
       "      <td>0</td>\n",
       "      <td>takes pride in calling himself a \"Sesky Video ...</td>\n",
       "      <td>tt2347289</td>\n",
       "      <td>0.003110</td>\n",
       "      <td>0</td>\n",
       "      <td>0.0</td>\n",
       "      <td>145.0</td>\n",
       "      <td>tt2347289</td>\n",
       "      <td>The Jubilee Girl</td>\n",
       "      <td>...</td>\n",
       "      <td>0.0</td>\n",
       "      <td>0.0</td>\n",
       "      <td>0.0</td>\n",
       "      <td>0.0</td>\n",
       "      <td>0.0</td>\n",
       "      <td>0.0</td>\n",
       "      <td>0.0</td>\n",
       "      <td>0.0</td>\n",
       "      <td>0.0</td>\n",
       "      <td>0.0</td>\n",
       "    </tr>\n",
       "    <tr>\n",
       "      <th>2</th>\n",
       "      <td>106509</td>\n",
       "      <td>0</td>\n",
       "      <td>A young millionaire (Richard Carlson) joins th...</td>\n",
       "      <td>tt0034853</td>\n",
       "      <td>0.000155</td>\n",
       "      <td>0</td>\n",
       "      <td>6.0</td>\n",
       "      <td>65.0</td>\n",
       "      <td>tt0034853</td>\n",
       "      <td>Highways by Night</td>\n",
       "      <td>...</td>\n",
       "      <td>0.0</td>\n",
       "      <td>0.0</td>\n",
       "      <td>0.0</td>\n",
       "      <td>0.0</td>\n",
       "      <td>0.0</td>\n",
       "      <td>0.0</td>\n",
       "      <td>0.0</td>\n",
       "      <td>0.0</td>\n",
       "      <td>0.0</td>\n",
       "      <td>0.0</td>\n",
       "    </tr>\n",
       "    <tr>\n",
       "      <th>3</th>\n",
       "      <td>106511</td>\n",
       "      <td>0</td>\n",
       "      <td>Rd Cokro, a wealthy businessman, obtains his w...</td>\n",
       "      <td>tt0285808</td>\n",
       "      <td>0.000083</td>\n",
       "      <td>0</td>\n",
       "      <td>0.0</td>\n",
       "      <td>82.0</td>\n",
       "      <td>tt0285808</td>\n",
       "      <td>Nyi blorong</td>\n",
       "      <td>...</td>\n",
       "      <td>0.0</td>\n",
       "      <td>0.0</td>\n",
       "      <td>0.0</td>\n",
       "      <td>0.0</td>\n",
       "      <td>0.0</td>\n",
       "      <td>0.0</td>\n",
       "      <td>0.0</td>\n",
       "      <td>0.0</td>\n",
       "      <td>0.0</td>\n",
       "      <td>0.0</td>\n",
       "    </tr>\n",
       "    <tr>\n",
       "      <th>4</th>\n",
       "      <td>106513</td>\n",
       "      <td>0</td>\n",
       "      <td>The city's District Attorney is murdered, and ...</td>\n",
       "      <td>tt0036255</td>\n",
       "      <td>0.010632</td>\n",
       "      <td>0</td>\n",
       "      <td>6.5</td>\n",
       "      <td>74.0</td>\n",
       "      <td>tt0036255</td>\n",
       "      <td>The Pay Off</td>\n",
       "      <td>...</td>\n",
       "      <td>0.0</td>\n",
       "      <td>0.0</td>\n",
       "      <td>0.0</td>\n",
       "      <td>0.0</td>\n",
       "      <td>0.0</td>\n",
       "      <td>0.0</td>\n",
       "      <td>0.0</td>\n",
       "      <td>0.0</td>\n",
       "      <td>0.0</td>\n",
       "      <td>0.0</td>\n",
       "    </tr>\n",
       "  </tbody>\n",
       "</table>\n",
       "<p>5 rows × 42 columns</p>\n",
       "</div>"
      ],
      "text/plain": [
       "   movie_id  revenue                                           overview  \\\n",
       "0    106505        0  Relentlessly gruesome, South Korean filmmaker ...   \n",
       "1    106507        0  takes pride in calling himself a \"Sesky Video ...   \n",
       "2    106509        0  A young millionaire (Richard Carlson) joins th...   \n",
       "3    106511        0  Rd Cokro, a wealthy businessman, obtains his w...   \n",
       "4    106513        0  The city's District Attorney is murdered, and ...   \n",
       "\n",
       "     imdb_id  popularity  budget  vote_average  runtime         id  \\\n",
       "0  tt2349554    0.000814       0           5.8     75.0  tt2349554   \n",
       "1  tt2347289    0.003110       0           0.0    145.0  tt2347289   \n",
       "2  tt0034853    0.000155       0           6.0     65.0  tt0034853   \n",
       "3  tt0285808    0.000083       0           0.0     82.0  tt0285808   \n",
       "4  tt0036255    0.010632       0           6.5     74.0  tt0036255   \n",
       "\n",
       "               title  ...    Short  Thriller  War Western Talk-Show News  \\\n",
       "0       Hier bei mir  ...      1.0       0.0  0.0     0.0       0.0  0.0   \n",
       "1   The Jubilee Girl  ...      0.0       0.0  0.0     0.0       0.0  0.0   \n",
       "2  Highways by Night  ...      0.0       0.0  0.0     0.0       0.0  0.0   \n",
       "3        Nyi blorong  ...      0.0       0.0  0.0     0.0       0.0  0.0   \n",
       "4        The Pay Off  ...      0.0       0.0  0.0     0.0       0.0  0.0   \n",
       "\n",
       "   Game-Show  Reality-TV  History  Sport  \n",
       "0        0.0         0.0      0.0    0.0  \n",
       "1        0.0         0.0      0.0    0.0  \n",
       "2        0.0         0.0      0.0    0.0  \n",
       "3        0.0         0.0      0.0    0.0  \n",
       "4        0.0         0.0      0.0    0.0  \n",
       "\n",
       "[5 rows x 42 columns]"
      ]
     },
     "execution_count": 12,
     "metadata": {},
     "output_type": "execute_result"
    }
   ],
   "source": [
    "print result.shape\n",
    "result.head()"
   ]
  },
  {
   "cell_type": "code",
   "execution_count": 13,
   "metadata": {},
   "outputs": [],
   "source": [
    "del result[\"id\"]"
   ]
  },
  {
   "cell_type": "code",
   "execution_count": 14,
   "metadata": {},
   "outputs": [
    {
     "data": {
      "text/plain": [
       "Index([u'movie_id', u'revenue', u'overview', u'imdb_id', u'popularity',\n",
       "       u'budget', u'vote_average', u'runtime', u'title', u'year', u'rating',\n",
       "       u'genres', u'director', u'writer', u'cast', u'Action', u'Adventure',\n",
       "       u'Adult', u'Animation', u'Comedy', u'Crime', u'Documentary', u'Drama',\n",
       "       u'Family', u'Fantasy', u'Film-Noir', u'Horror', u'Musical', u'Mystery',\n",
       "       u'Romance', u'Sci-Fi', u'Short', u'Thriller', u'War', u'Western',\n",
       "       u'Talk-Show', u'News', u'Game-Show', u'Reality-TV', u'History',\n",
       "       u'Sport'],\n",
       "      dtype='object')"
      ]
     },
     "execution_count": 14,
     "metadata": {},
     "output_type": "execute_result"
    }
   ],
   "source": [
    "result.columns"
   ]
  },
  {
   "cell_type": "markdown",
   "metadata": {},
   "source": [
    "##### Delete some label which does not make sense as others"
   ]
  },
  {
   "cell_type": "code",
   "execution_count": 15,
   "metadata": {},
   "outputs": [
    {
     "data": {
      "text/plain": [
       "(47673, 41)"
      ]
     },
     "execution_count": 15,
     "metadata": {},
     "output_type": "execute_result"
    }
   ],
   "source": [
    "cols = result.columns\n",
    "cols = cols.map(lambda x: x.replace('-', '_'))\n",
    "result.columns = cols\n",
    "result = result[result.Sport == 0]\n",
    "result = result[result.Adult == 0]\n",
    "result = result[result.Film_Noir == 0]\n",
    "result = result[result.Short == 0]\n",
    "result = result[result.Talk_Show == 0]\n",
    "result = result[result.News == 0]\n",
    "result = result[result.Game_Show == 0]\n",
    "result = result[result.Reality_TV == 0]\n",
    "result.shape"
   ]
  },
  {
   "cell_type": "code",
   "execution_count": 16,
   "metadata": {},
   "outputs": [
    {
     "data": {
      "text/plain": [
       "(47673, 33)"
      ]
     },
     "execution_count": 16,
     "metadata": {},
     "output_type": "execute_result"
    }
   ],
   "source": [
    "del result['Sport']\n",
    "del result['Adult']\n",
    "del result['Film_Noir']\n",
    "del result['Short']\n",
    "del result['Talk_Show']\n",
    "del result['News']\n",
    "del result['Game_Show']\n",
    "del result['Reality_TV']\n",
    "result.shape"
   ]
  },
  {
   "cell_type": "markdown",
   "metadata": {},
   "source": [
    "##### Add forgetten label, Biography"
   ]
  },
  {
   "cell_type": "code",
   "execution_count": 17,
   "metadata": {},
   "outputs": [
    {
     "data": {
      "text/plain": [
       "(47673, 34)"
      ]
     },
     "execution_count": 17,
     "metadata": {},
     "output_type": "execute_result"
    }
   ],
   "source": [
    "result['Biography'] = 0\n",
    "result.shape"
   ]
  },
  {
   "cell_type": "code",
   "execution_count": 18,
   "metadata": {},
   "outputs": [],
   "source": [
    "for i in result[\"genres\"]:\n",
    "    if \"Biography\" in i:\n",
    "        result.loc[result.genres == i, \"Biography\"] = 1        "
   ]
  },
  {
   "cell_type": "code",
   "execution_count": 19,
   "metadata": {},
   "outputs": [
    {
     "data": {
      "text/plain": [
       "movie_id                                                   106507\n",
       "revenue                                                         0\n",
       "overview        takes pride in calling himself a \"Sesky Video ...\n",
       "imdb_id                                                 tt2347289\n",
       "popularity                                                0.00311\n",
       "budget                                                          0\n",
       "vote_average                                                    0\n",
       "runtime                                                       145\n",
       "title                                            The Jubilee Girl\n",
       "year                                                         2002\n",
       "rating                                                        6.8\n",
       "genres                                             [u'Biography']\n",
       "director                                                      NaN\n",
       "writer                                                        NaN\n",
       "cast            ['Bryan Adams', 'Roberto Alagna', 'Thomas Alle...\n",
       "Action                                                          0\n",
       "Adventure                                                       0\n",
       "Animation                                                       0\n",
       "Comedy                                                          0\n",
       "Crime                                                           0\n",
       "Documentary                                                     0\n",
       "Drama                                                           0\n",
       "Family                                                          0\n",
       "Fantasy                                                         0\n",
       "Horror                                                          0\n",
       "Musical                                                         0\n",
       "Mystery                                                         0\n",
       "Romance                                                         0\n",
       "Sci_Fi                                                          0\n",
       "Thriller                                                        0\n",
       "War                                                             0\n",
       "Western                                                         0\n",
       "History                                                         0\n",
       "Biography                                                       1\n",
       "Name: 1, dtype: object"
      ]
     },
     "execution_count": 19,
     "metadata": {},
     "output_type": "execute_result"
    }
   ],
   "source": [
    "example_movie = result.iloc[0]\n",
    "example_movie"
   ]
  },
  {
   "cell_type": "markdown",
   "metadata": {},
   "source": [
    "##### Delete person-based feature, because it made the job harder even it helped to make a better prediction."
   ]
  },
  {
   "cell_type": "code",
   "execution_count": 20,
   "metadata": {},
   "outputs": [],
   "source": [
    "del result['director']\n",
    "del result['writer']\n",
    "del result['cast']\n",
    "del result['genres']"
   ]
  },
  {
   "cell_type": "code",
   "execution_count": 21,
   "metadata": {},
   "outputs": [
    {
     "data": {
      "text/plain": [
       "Index([u'movie_id', u'revenue', u'overview', u'imdb_id', u'popularity',\n",
       "       u'budget', u'vote_average', u'runtime', u'title', u'year', u'rating',\n",
       "       u'Action', u'Adventure', u'Animation', u'Comedy', u'Crime',\n",
       "       u'Documentary', u'Drama', u'Family', u'Fantasy', u'Horror', u'Musical',\n",
       "       u'Mystery', u'Romance', u'Sci_Fi', u'Thriller', u'War', u'Western',\n",
       "       u'History', u'Biography'],\n",
       "      dtype='object')"
      ]
     },
     "execution_count": 21,
     "metadata": {},
     "output_type": "execute_result"
    }
   ],
   "source": [
    "result.columns"
   ]
  },
  {
   "cell_type": "code",
   "execution_count": 22,
   "metadata": {},
   "outputs": [
    {
     "data": {
      "text/plain": [
       "movie_id                                                   106507\n",
       "revenue                                                         0\n",
       "overview        takes pride in calling himself a \"Sesky Video ...\n",
       "imdb_id                                                 tt2347289\n",
       "popularity                                                0.00311\n",
       "budget                                                          0\n",
       "vote_average                                                    0\n",
       "runtime                                                       145\n",
       "title                                            The Jubilee Girl\n",
       "year                                                         2002\n",
       "rating                                                        6.8\n",
       "Action                                                          0\n",
       "Adventure                                                       0\n",
       "Animation                                                       0\n",
       "Comedy                                                          0\n",
       "Crime                                                           0\n",
       "Documentary                                                     0\n",
       "Drama                                                           0\n",
       "Family                                                          0\n",
       "Fantasy                                                         0\n",
       "Horror                                                          0\n",
       "Musical                                                         0\n",
       "Mystery                                                         0\n",
       "Romance                                                         0\n",
       "Sci_Fi                                                          0\n",
       "Thriller                                                        0\n",
       "War                                                             0\n",
       "Western                                                         0\n",
       "History                                                         0\n",
       "Biography                                                       1\n",
       "Name: 1, dtype: object"
      ]
     },
     "execution_count": 22,
     "metadata": {},
     "output_type": "execute_result"
    }
   ],
   "source": [
    "example_movie = result.iloc[0]\n",
    "example_movie"
   ]
  },
  {
   "cell_type": "markdown",
   "metadata": {},
   "source": [
    "##### Save the result for visualization and preprocessing"
   ]
  },
  {
   "cell_type": "code",
   "execution_count": 24,
   "metadata": {},
   "outputs": [],
   "source": [
    "result.to_csv('result.csv')"
   ]
  }
 ],
 "metadata": {
  "kernelspec": {
   "display_name": "Python 2",
   "language": "python",
   "name": "python2"
  },
  "language_info": {
   "codemirror_mode": {
    "name": "ipython",
    "version": 2
   },
   "file_extension": ".py",
   "mimetype": "text/x-python",
   "name": "python",
   "nbconvert_exporter": "python",
   "pygments_lexer": "ipython2",
   "version": "2.7.14"
  }
 },
 "nbformat": 4,
 "nbformat_minor": 2
}
